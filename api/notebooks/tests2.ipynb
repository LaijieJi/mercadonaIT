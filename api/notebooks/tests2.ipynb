{
 "cells": [
  {
   "cell_type": "code",
   "execution_count": 4,
   "id": "5bb4a353",
   "metadata": {},
   "outputs": [],
   "source": [
    "import sys\n",
    "import os\n",
    "\n",
    "# Añadir la carpeta padre (api/) al sys.path\n",
    "sys.path.append(os.path.abspath(os.path.join(os.getcwd(), \"..\")))\n",
    "\n",
    "from food_classifier import FoodImageClassifier\n",
    "\n",
    "# Crear una instancia del clasificador\n",
    "classifier = FoodImageClassifier()"
   ]
  },
  {
   "cell_type": "code",
   "execution_count": 7,
   "id": "ae55b552",
   "metadata": {},
   "outputs": [
    {
     "name": "stdout",
     "output_type": "stream",
     "text": [
      "Predicciones de comida:\n",
      "Paella: 16.31%\n",
      "Fried Rice: 3.18%\n",
      "Risotto: 2.35%\n",
      "\n",
      "Similitud CLIP:\n",
      "Paella: 99.97%\n",
      "Fried Rice: 0.01%\n",
      "Risotto: 0.02%\n"
     ]
    }
   ],
   "source": [
    "with open(\"../images/example.jpg\", \"rb\") as f:\n",
    "    image_bytes = f.read()\n",
    "\n",
    "image = classifier.load_image(image_bytes)\n",
    "\n",
    "\n",
    "# Clasificar la imagen (ViT)\n",
    "top_predictions = classifier.classify_food(image, top_k=3)\n",
    "\n",
    "print(\"Predicciones de comida:\")\n",
    "for label, score in top_predictions:\n",
    "    print(f\"{label}: {score:.2%}\")\n",
    "\n",
    "# (Opcional) Evaluar similitud con CLIP usando los textos de predicción\n",
    "texts = [label for label, _ in top_predictions]\n",
    "clip_results = classifier.get_clip_similarity(image, texts)\n",
    "\n",
    "print(\"\\nSimilitud CLIP:\")\n",
    "for text, score in clip_results:\n",
    "    print(f\"{text}: {score:.2%}\")"
   ]
  },
  {
   "cell_type": "code",
   "execution_count": null,
   "id": "2fd09c8f",
   "metadata": {},
   "outputs": [],
   "source": []
  }
 ],
 "metadata": {
  "kernelspec": {
   "display_name": ".venv",
   "language": "python",
   "name": "python3"
  },
  "language_info": {
   "codemirror_mode": {
    "name": "ipython",
    "version": 3
   },
   "file_extension": ".py",
   "mimetype": "text/x-python",
   "name": "python",
   "nbconvert_exporter": "python",
   "pygments_lexer": "ipython3",
   "version": "3.12.7"
  }
 },
 "nbformat": 4,
 "nbformat_minor": 5
}
