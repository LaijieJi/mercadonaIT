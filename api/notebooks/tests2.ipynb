{
 "cells": [
  {
   "cell_type": "code",
   "execution_count": 2,
   "id": "5bb4a353",
   "metadata": {},
   "outputs": [
    {
     "name": "stdout",
     "output_type": "stream",
     "text": [
      "Predicciones de comida:\n",
      "Hamburger: 14.23%\n",
      "Pulled Pork Sandwich: 6.50%\n",
      "Lobster Roll Sandwich: 2.39%\n"
     ]
    },
    {
     "ename": "AttributeError",
     "evalue": "'FoodImageClassifier' object has no attribute 'get_clip_similarity'",
     "output_type": "error",
     "traceback": [
      "\u001b[31m---------------------------------------------------------------------------\u001b[39m",
      "\u001b[31mAttributeError\u001b[39m                            Traceback (most recent call last)",
      "\u001b[36mCell\u001b[39m\u001b[36m \u001b[39m\u001b[32mIn[2]\u001b[39m\u001b[32m, line 21\u001b[39m\n\u001b[32m     19\u001b[39m \u001b[38;5;66;03m# (Opcional) Evaluar similitud con CLIP usando los textos de predicción\u001b[39;00m\n\u001b[32m     20\u001b[39m texts = [label \u001b[38;5;28;01mfor\u001b[39;00m label, _ \u001b[38;5;129;01min\u001b[39;00m top_predictions]\n\u001b[32m---> \u001b[39m\u001b[32m21\u001b[39m clip_results = \u001b[43mclassifier\u001b[49m\u001b[43m.\u001b[49m\u001b[43mget_clip_similarity\u001b[49m(image, texts)\n\u001b[32m     23\u001b[39m \u001b[38;5;28mprint\u001b[39m(\u001b[33m\"\u001b[39m\u001b[38;5;130;01m\\n\u001b[39;00m\u001b[33mSimilitud CLIP:\u001b[39m\u001b[33m\"\u001b[39m)\n\u001b[32m     24\u001b[39m \u001b[38;5;28;01mfor\u001b[39;00m text, score \u001b[38;5;129;01min\u001b[39;00m clip_results:\n",
      "\u001b[31mAttributeError\u001b[39m: 'FoodImageClassifier' object has no attribute 'get_clip_similarity'"
     ]
    }
   ],
   "source": [
    "from food_classifier import FoodImageClassifier\n",
    "\n",
    "# Crear una instancia del clasificador\n",
    "classifier = FoodImageClassifier()\n",
    "\n",
    "# URL de la imagen\n",
    "image_url = \"https://www.sargento.com/assets/Uploads/Recipe/Image/burger_0__FillWzgwMCw4MDBd.jpg\"\n",
    "\n",
    "# Cargar imagen desde URL\n",
    "image = classifier.load_image(image_url)\n",
    "\n",
    "# Clasificar la imagen (ViT)\n",
    "top_predictions = classifier.classify_food(image, top_k=3)\n",
    "\n",
    "print(\"Predicciones de comida:\")\n",
    "for label, score in top_predictions:\n",
    "    print(f\"{label}: {score:.2%}\")\n",
    "\n",
    "# (Opcional) Evaluar similitud con CLIP usando los textos de predicción\n",
    "texts = [label for label, _ in top_predictions]\n",
    "clip_results = classifier.get_clip_similarity(image, texts)\n",
    "\n",
    "print(\"\\nSimilitud CLIP:\")\n",
    "for text, score in clip_results:\n",
    "    print(f\"{text}: {score:.2%}\")"
   ]
  },
  {
   "cell_type": "code",
   "execution_count": null,
   "id": "ae55b552",
   "metadata": {},
   "outputs": [],
   "source": []
  }
 ],
 "metadata": {
  "kernelspec": {
   "display_name": ".venv",
   "language": "python",
   "name": "python3"
  },
  "language_info": {
   "codemirror_mode": {
    "name": "ipython",
    "version": 3
   },
   "file_extension": ".py",
   "mimetype": "text/x-python",
   "name": "python",
   "nbconvert_exporter": "python",
   "pygments_lexer": "ipython3",
   "version": "3.12.7"
  }
 },
 "nbformat": 4,
 "nbformat_minor": 5
}
