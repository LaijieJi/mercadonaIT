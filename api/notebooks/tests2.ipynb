{
 "cells": [
  {
   "cell_type": "code",
   "execution_count": null,
   "id": "5bb4a353",
   "metadata": {},
   "outputs": [],
   "source": [
    "import sys\n",
    "import os\n",
    "\n",
    "# Añadir la carpeta padre (api/) al sys.pathj\n",
    "sys.path.append(os.path.abspath(os.path.join(os.getcwd(), \"..\")))\n",
    "\n",
    "from food_classifier import FoodImageClassifier\n",
    "\n",
    "# Crear una instancia del clasificador\n",
    "classifier = FoodImageClassifier()"
   ]
  },
  {
   "cell_type": "code",
   "execution_count": 1,
   "id": "ae55b552",
   "metadata": {},
   "outputs": [
    {
     "ename": "NameError",
     "evalue": "name 'classifier' is not defined",
     "output_type": "error",
     "traceback": [
      "\u001b[31m---------------------------------------------------------------------------\u001b[39m",
      "\u001b[31mNameError\u001b[39m                                 Traceback (most recent call last)",
      "\u001b[36mCell\u001b[39m\u001b[36m \u001b[39m\u001b[32mIn[1]\u001b[39m\u001b[32m, line 4\u001b[39m\n\u001b[32m      1\u001b[39m \u001b[38;5;28;01mwith\u001b[39;00m \u001b[38;5;28mopen\u001b[39m(\u001b[33m\"\u001b[39m\u001b[33m../images/example.jpg\u001b[39m\u001b[33m\"\u001b[39m, \u001b[33m\"\u001b[39m\u001b[33mrb\u001b[39m\u001b[33m\"\u001b[39m) \u001b[38;5;28;01mas\u001b[39;00m f:\n\u001b[32m      2\u001b[39m     image_bytes = f.read()\n\u001b[32m----> \u001b[39m\u001b[32m4\u001b[39m image = \u001b[43mclassifier\u001b[49m.load_image(image_bytes)\n\u001b[32m      6\u001b[39m top_dish, recipe = classifier.classify_and_generate_recipe(image)\n",
      "\u001b[31mNameError\u001b[39m: name 'classifier' is not defined"
     ]
    }
   ],
   "source": [
    "with open(\"../images/example.jpg\", \"rb\") as f:\n",
    "    image_bytes = f.read()\n",
    "\n",
    "image = classifier.load_image(image_bytes)\n",
    "\n",
    "top_dish, recipe = classifier.classify_and_generate_recipe(image)"
   ]
  },
  {
   "cell_type": "code",
   "execution_count": null,
   "id": "2fd09c8f",
   "metadata": {},
   "outputs": [],
   "source": []
  }
 ],
 "metadata": {
  "kernelspec": {
   "display_name": ".venv",
   "language": "python",
   "name": "python3"
  },
  "language_info": {
   "codemirror_mode": {
    "name": "ipython",
    "version": 3
   },
   "file_extension": ".py",
   "mimetype": "text/x-python",
   "name": "python",
   "nbconvert_exporter": "python",
   "pygments_lexer": "ipython3",
   "version": "3.12.7"
  }
 },
 "nbformat": 4,
 "nbformat_minor": 5
}
